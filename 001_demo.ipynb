{
  "nbformat": 4,
  "nbformat_minor": 0,
  "metadata": {
    "colab": {
      "name": "001_demo.ipynb",
      "provenance": [],
      "collapsed_sections": [],
      "include_colab_link": true
    },
    "kernelspec": {
      "name": "python3",
      "display_name": "Python 3"
    },
    "accelerator": "GPU"
  },
  "cells": [
    {
      "cell_type": "markdown",
      "metadata": {
        "id": "view-in-github",
        "colab_type": "text"
      },
      "source": [
        "<a href=\"https://colab.research.google.com/github/benihime91/Deep-Learning/blob/master/001_demo.ipynb\" target=\"_parent\"><img src=\"https://colab.research.google.com/assets/colab-badge.svg\" alt=\"Open In Colab\"/></a>"
      ]
    },
    {
      "cell_type": "markdown",
      "metadata": {
        "id": "z_y280Hh3Bct"
      },
      "source": [
        "# **Introduction**\n",
        "\n",
        "In this notebook, we implement [PyTorch RetinaNet](https://github.com/benihime91) for custom dataset. \n",
        "\n",
        "We will take the following steps to implement PyTorch RetinaNet on our custom data:\n",
        "* Install PyTorch RetinaNet along with required dependencies.\n",
        "* Download Custom Dataset.\n",
        "* Write Training Configuation yaml file .\n",
        "* Train  Detection Model .\n",
        "* Use Trained TensorFlow2 Object Detection For Inference on Test Images.\n",
        "\n",
        "When you are done you will have a custom detector that you can use. It will make inference like this:\n",
        "\n",
        "#### ![Roboflow Workmark](https://i.imgur.com/L0n564N.png)"
      ]
    },
    {
      "cell_type": "markdown",
      "metadata": {
        "id": "UKhftVgvIZUC"
      },
      "source": [
        "### **Setting up Colab :**"
      ]
    },
    {
      "cell_type": "code",
      "metadata": {
        "id": "qeiJgg30wyo6"
      },
      "source": [
        "# What GPU do we have ?\n",
        "!nvidia-smi"
      ],
      "execution_count": null,
      "outputs": []
    },
    {
      "cell_type": "code",
      "metadata": {
        "id": "bwbGnBBawyiS"
      },
      "source": [
        "# Ensure colab doesn't disconnect\n",
        "%%javascript\n",
        "function ClickConnect(){\n",
        "console.log(\"Working\");\n",
        "document.querySelector(\"colab-toolbar-button#connect\").click()\n",
        "}setInterval(ClickConnect,60000)"
      ],
      "execution_count": null,
      "outputs": []
    },
    {
      "cell_type": "markdown",
      "metadata": {
        "id": "3d_3kuuO33HJ"
      },
      "source": [
        "# **Install Pytorch Retinanet and Dependencies** :"
      ]
    },
    {
      "cell_type": "code",
      "metadata": {
        "id": "rmBDcHdd6ZcP"
      },
      "source": [
        "# Clone the RetinaNet Repo\n",
        "!git clone https://github.com/benihime91/pytorch_retinanet.git\n",
        "# install dependencies\n",
        "!pip install pytorch-lightning omegaconf --quiet\n",
        "!pip install git+https://github.com/albumentations-team/albumentations --quiet\n",
        "!echo \"[   OK   ] Installed all depedencies \"\n",
        "\n",
        "#Update sys path to enclude the pytorch retinaet modules\n",
        "import warnings\n",
        "import os\n",
        "import sys\n",
        "\n",
        "warnings.filterwarnings('ignore')\n",
        "sys.path.append(\"/content/pytorch_retinanet/\")\n",
        "%load_ext autoreload\n",
        "%autoreload 2\n",
        "%matplotlib inline\n",
        "\n",
        "!echo \"[   OK   ] Setup Done \""
      ],
      "execution_count": null,
      "outputs": []
    },
    {
      "cell_type": "markdown",
      "metadata": {
        "id": "dU1gg2tQ4JwT"
      },
      "source": [
        "# **Prepare Pytorch Retinanet Object Detection Training Data**\n",
        "\n",
        "We will use the **[BCCD Dataset](https://public.roboflow.com/object-detection/bccd)** from RoboFlow.  This is a dataset of blood cells photos.  \n",
        "\n",
        "There are 364 images across three classes: \n",
        "* WBC (white blood cells)\n",
        "* RBC (red blood cells)\n",
        "* Platelets. \n",
        "\n",
        "\n",
        "There are 4888 labels across 3 classes (and 0 null examples).\n",
        "\n",
        "\n",
        "To train on the custom dataset the data needs to be in either **csv** or **pascal-voc** format . Roboflow makes it easier to generate the datasets. We can directly download the datsets in required format.\n",
        "\n",
        "We will download the dataset in **Pascal-VOC** format and then use in-built methods available in PyTorch Retinanet to convert our data into **csv** format."
      ]
    },
    {
      "cell_type": "code",
      "metadata": {
        "id": "ccVmU0ii5qOk"
      },
      "source": [
        "#Downloading data from Roboflow\n",
        "#UPDATE THIS LINK - get our data from Roboflow\n",
        "%cd /content\n",
        "#curl -L \"[YOUR LINK HERE]\" > roboflow.zip; unzip roboflow.zip; rm roboflow.zip\n",
        "!curl -L \"https://public.roboflow.com/ds/vYOavmoHyM?key=byxE8x2t11\" > roboflow.zip\n",
        "!unzip roboflow.zip\n",
        "!rm roboflow.zip"
      ],
      "execution_count": null,
      "outputs": []
    },
    {
      "cell_type": "code",
      "metadata": {
        "id": "9151YOX46gUg"
      },
      "source": [
        "#Set up paths \n",
        "\n",
        "#Path to where the Images are stored\n",
        "TRAIN_IMAGES = \"/content/train\"\n",
        "VALID_IMAGE = \"/content/valid\"\n",
        "TEST_IMAGES = \"/content/test\"\n",
        "#Path to where the xml annotations are stored\n",
        "TRAIN_ANNOTATIONS = \"/content/train\"\n",
        "VALID_ANNOTATIONS = \"/content/valid\"\n",
        "TEST_ANNOTATIONS  = \"/content/test\""
      ],
      "execution_count": null,
      "outputs": []
    },
    {
      "cell_type": "code",
      "metadata": {
        "id": "44qIjriixflK"
      },
      "source": [
        "import pandas as pd\n",
        "from utils.pascal import convert_annotations_to_df\n",
        "from PIL import Image\n",
        "import cv2\n",
        "\n",
        "pd.set_option(\"display.max_colwidth\", None)"
      ],
      "execution_count": null,
      "outputs": []
    },
    {
      "cell_type": "markdown",
      "metadata": {
        "id": "L5sQYcci76ad"
      },
      "source": [
        "## **Generate csv file from XML Annotations:**"
      ]
    },
    {
      "cell_type": "code",
      "metadata": {
        "id": "0zNGhr6D7xGN"
      },
      "source": [
        "#convert xml files to pandas DataFrames\n",
        "train_df = convert_annotations_to_df(TRAIN_ANNOTATIONS, TRAIN_IMAGES, image_set=\"train\")\n",
        "valid_df = convert_annotations_to_df(VALID_ANNOTATIONS, VALID_IMAGE, image_set=\"test\")\n",
        "test_df  = convert_annotations_to_df(TEST_ANNOTATIONS, TEST_ANNOTATIONS, image_set=\"test\")\n",
        "!echo \"[   DONE  ] DataFrames Generated !\"\n",
        "\n",
        "# removing annotations that are not valid annotations\n",
        "!echo \"[   INFO  ] Removing invalied annotations ... \"\n",
        "train_df = train_df[train_df.xmax > train_df.xmin]\n",
        "train_df = train_df[train_df.ymax > train_df.ymin]\n",
        "\n",
        "valid_df = valid_df[valid_df.xmax > valid_df.xmin]\n",
        "valid_df = valid_df[valid_df.ymax > valid_df.ymin]\n",
        "\n",
        "test_df = test_df[test_df.xmax > test_df.xmin]\n",
        "test_df = test_df[test_df.ymax > test_df.ymin]\n",
        "\n",
        "train_df.reset_index(inplace=True, drop=True)\n",
        "valid_df.reset_index(inplace=True, drop=True)\n",
        "test_df.reset_index(inplace =True, drop=True)\n",
        "\n",
        "#save the csv files to memory\n",
        "TRAIN_CSV = \"/content/train/train_data.csv\"\n",
        "VALID_CSV = \"/content/valid/valid_data.csv\"\n",
        "TEST_CSV  = \"/content/test/test_data.csv\"\n",
        "\n",
        "train_df.to_csv(TRAIN_CSV, index=False)\n",
        "!echo \"[   DONE  ] Train csv files saved to {TRAIN_CSV} !\"\n",
        "\n",
        "valid_df.to_csv(VALID_CSV, index=False)\n",
        "!echo \"[   DONE  ] Valid csv files saved to {VALID_CSV} !\"\n",
        "\n",
        "test_df.to_csv(TEST_CSV, index=False)\n",
        "!echo \"[   DONE  ] Test csv files saved to {TEST_CSV} !\""
      ],
      "execution_count": null,
      "outputs": []
    },
    {
      "cell_type": "markdown",
      "metadata": {
        "id": "0GtBhU7OSXfN"
      },
      "source": [
        "### **CSV Files are as follows :**"
      ]
    },
    {
      "cell_type": "code",
      "metadata": {
        "id": "nfFsOeXvyNNI"
      },
      "source": [
        "train_df.head()"
      ],
      "execution_count": null,
      "outputs": []
    },
    {
      "cell_type": "code",
      "metadata": {
        "id": "yNshyfK6SPD2"
      },
      "source": [
        "valid_df.head()"
      ],
      "execution_count": null,
      "outputs": []
    },
    {
      "cell_type": "code",
      "metadata": {
        "id": "OJYAKrj_SOnY"
      },
      "source": [
        "test_df.head()"
      ],
      "execution_count": null,
      "outputs": []
    },
    {
      "cell_type": "markdown",
      "metadata": {
        "id": "NiyBeJVe_Ofo"
      },
      "source": [
        "# **View Images from the Dataset** :\n",
        "\n",
        "We can use the fn `visualize_boxes_and_labels_on_image_array` from the RetinaNet repo to visualize images and the bounding boxes over them. To use this function we need to first create a Label Map, which is a list that contains all the classes at index corresponding to the integer labels ."
      ]
    },
    {
      "cell_type": "markdown",
      "metadata": {
        "id": "z_YkstkExrnq"
      },
      "source": [
        "##**Let's now generate the Label Map which is used for visualization:**"
      ]
    },
    {
      "cell_type": "code",
      "metadata": {
        "id": "dRXOIHwXyFY8"
      },
      "source": [
        "from utils.pascal import generate_pascal_category_names\n",
        "\n",
        "LABEL_MAP = generate_pascal_category_names(train_df)\n",
        "LABEL_MAP"
      ],
      "execution_count": null,
      "outputs": []
    },
    {
      "cell_type": "markdown",
      "metadata": {
        "id": "9j8zlT8I_3Ey"
      },
      "source": [
        "##**Plot images with Bounding boxes over them**:"
      ]
    },
    {
      "cell_type": "code",
      "metadata": {
        "id": "Qz-1bG-3yzzh"
      },
      "source": [
        "from utils import visualize_boxes_and_labels_on_image_array\n",
        "import numpy as np"
      ],
      "execution_count": null,
      "outputs": []
    },
    {
      "cell_type": "code",
      "metadata": {
        "id": "TlWOPTZz_-fx"
      },
      "source": [
        "def grab_bbs_(dataframe, index:int):\n",
        "    \"\"\"\n",
        "    Takes in a Pandas DataFrame and a index number\n",
        "    Returns filename of the image and all the bounding boxes and class_labels\n",
        "    corresponding the image that is at the given index\n",
        "    \"\"\"\n",
        "    assert index <= len(dataframe), f\"[  ERROR  ] Invalid index for dataframe with len: {len(dataframe)}\"\n",
        "    fname = dataframe.filename[index]\n",
        "    locs = dataframe.loc[dataframe.filename == fname]\n",
        "    bbs  = locs[[\"xmin\", \"ymin\", \"xmax\", \"ymax\"]].values\n",
        "    cls = locs[\"labels\"].values\n",
        "    return fname, bbs, cls"
      ],
      "execution_count": null,
      "outputs": []
    },
    {
      "cell_type": "markdown",
      "metadata": {
        "id": "_mj_TbREDGio"
      },
      "source": [
        "### **Image from Train Data:**"
      ]
    },
    {
      "cell_type": "code",
      "metadata": {
        "id": "-g7KiJXfAfwU"
      },
      "source": [
        "#grab image, boxe and class target\n",
        "image, boxes, clas = grab_bbs_(train_df, index=0)\n",
        "\n",
        "#load and normalize the image\n",
        "image = Image.open(image)\n",
        "image = np.array(image) / 255.\n",
        "\n",
        "#draw boxes over the image\n",
        "image = visualize_boxes_and_labels_on_image_array(\n",
        "                image=image,\n",
        "                boxes=boxes, \n",
        "                scores=None, \n",
        "                classes=clas,\n",
        "                label_map=LABEL_MAP,\n",
        ")\n",
        "\n",
        "image"
      ],
      "execution_count": null,
      "outputs": []
    },
    {
      "cell_type": "markdown",
      "metadata": {
        "id": "hfQbwjKnDKVk"
      },
      "source": [
        "### **Image from Validation data:**"
      ]
    },
    {
      "cell_type": "code",
      "metadata": {
        "id": "gLn5jQirCOsz"
      },
      "source": [
        "#grab image, boxe and class target\n",
        "image, boxes, clas = grab_bbs_(valid_df, index=50)\n",
        "\n",
        "#load and normalize the image\n",
        "image = Image.open(image)\n",
        "image = np.array(image) / 255.\n",
        "\n",
        "#draw boxes over the image\n",
        "image = visualize_boxes_and_labels_on_image_array(\n",
        "                image=image,\n",
        "                boxes=boxes, \n",
        "                scores=None, \n",
        "                classes=clas,\n",
        "                label_map=LABEL_MAP,\n",
        ")\n",
        "\n",
        "image"
      ],
      "execution_count": null,
      "outputs": []
    },
    {
      "cell_type": "markdown",
      "metadata": {
        "id": "dinrNPvFDN_z"
      },
      "source": [
        "###**Image from Test Data:**"
      ]
    },
    {
      "cell_type": "code",
      "metadata": {
        "id": "eFAMTxBz3QEc"
      },
      "source": [
        "#grab image, boxe and class target\n",
        "image, boxes, clas = grab_bbs_(test_df, index=100)\n",
        "\n",
        "#load and normalize the image\n",
        "image = Image.open(image)\n",
        "image = np.array(image) / 255.\n",
        "\n",
        "#draw boxes over the image\n",
        "image = visualize_boxes_and_labels_on_image_array(\n",
        "                image=image,\n",
        "                boxes=boxes, \n",
        "                scores=None, \n",
        "                classes=clas,\n",
        "                label_map=LABEL_MAP,\n",
        ")\n",
        "\n",
        "image"
      ],
      "execution_count": null,
      "outputs": []
    },
    {
      "cell_type": "markdown",
      "metadata": {
        "id": "ZZ7bjvvAzely"
      },
      "source": [
        "#**Configure Custom PyTorch RetianNet Object Detection Training Configuration** :\n"
      ]
    },
    {
      "cell_type": "code",
      "metadata": {
        "id": "aNlh0_8lzr_h"
      },
      "source": [
        "#let's look at the config file\n",
        "!cat /content/pytorch_retinanet/hparams.yaml"
      ],
      "execution_count": null,
      "outputs": []
    },
    {
      "cell_type": "code",
      "metadata": {
        "id": "F-LRcxooz9W-"
      },
      "source": [
        "from omegaconf import OmegaConf\n",
        "\n",
        "#load in the hparams.ymal file using Omegaconf\n",
        "hparams = OmegaConf.load(\"/content/pytorch_retinanet/hparams.yaml\")\n",
        "!echo \"[  WORKING ] Writing Custom Configuration File .. \"\n",
        "# ========================================================================= #\n",
        "# MODIFICATION OF THE CONFIG FILE TO FIX PATHS AND DATSET-ARGUEMENTS :\n",
        "# ========================================================================= #\n",
        "#specify kind of data to use\n",
        "hparams.dataset.kind = \"csv\"\n",
        "#Paths to the csv files\n",
        "hparams.dataset.trn_paths   = TRAIN_CSV\n",
        "hparams.dataset.valid_paths = VALID_CSV\n",
        "hparams.dataset.test_paths  = TEST_CSV\n",
        "# Dataset has 3 classes excluding the \"__background__\" class\n",
        "hparams.model.num_classes = 3\n",
        "#Changing optimizer paramters, \n",
        "#Scheduler can also be Optimized in the same way\n",
        "hparams.optimizer = {\n",
        "                \"class_name\": \"torch.optim.SGD\", \n",
        "                \"params\": {\n",
        "                    \"lr\": 8e-03,\n",
        "                    \"momentum\": 0.9,\n",
        "                    \"weight_decay\" : 0.0001,\n",
        "                    }\n",
        "            }\n",
        "\n",
        "# adding augmentations\n",
        "hparams.transforms.append(\n",
        "    {\n",
        "        \"class_name\": \"albumentations.ShiftScaleRotate\",\n",
        "        \"params\": {\"p\": 0.5},\n",
        "    }\n",
        ")\n",
        "\n",
        "!echo \"[   DONE   ] Configuration File : \"\n",
        "print(OmegaConf.to_yaml(hparams))"
      ],
      "execution_count": null,
      "outputs": []
    },
    {
      "cell_type": "markdown",
      "metadata": {
        "id": "bKDC6FqWFcPk"
      },
      "source": [
        "#**Instantiate Lightning-Module and Lightning-Trainer**"
      ]
    },
    {
      "cell_type": "code",
      "metadata": {
        "id": "t27TtCaAFyWG"
      },
      "source": [
        "import pytorch_lightning as pl\n",
        "from pytorch_lightning import Trainer\n",
        "from pytorch_lightning.loggers import *\n",
        "from pytorch_lightning.callbacks import *\n",
        "from model import RetinaNetModel, LogCallback\n",
        "\n",
        "# seed so that results are reproducible\n",
        "pl.seed_everything(123)"
      ],
      "execution_count": null,
      "outputs": []
    },
    {
      "cell_type": "markdown",
      "metadata": {
        "id": "5HEM4pVdF8EC"
      },
      "source": [
        "##**Load in the Lighning-Module using the hparams file modified above :**"
      ]
    },
    {
      "cell_type": "code",
      "metadata": {
        "id": "vIDSEwkp0UiK"
      },
      "source": [
        "# Instantie lightning-module\n",
        "litModel = RetinaNetModel(hparams=hparams)"
      ],
      "execution_count": null,
      "outputs": []
    },
    {
      "cell_type": "markdown",
      "metadata": {
        "id": "K5lZ9lbNI5Ow"
      },
      "source": [
        "## **Load in the Lighning-Trainer :**"
      ]
    },
    {
      "cell_type": "code",
      "metadata": {
        "id": "Vu6uttXD1NlZ"
      },
      "source": [
        "# ============================================================ #\n",
        "# INSTANTIATE LIGHTNING-TRAINER with CALLBACKS :\n",
        "# ============================================================ #\n",
        "# NOTE: \n",
        "# For a list of whole trainer specific arguments see : \n",
        "# https://pytorch-lightning.readthedocs.io/en/latest/trainer.html\n",
        "\n",
        "# Wandb logger\n",
        "# can use any other logger\n",
        "save_dir = \"/content/logs\"\n",
        "LOGGER = TensorBoardLogger(save_dir=\"/content/logs\")\n",
        "# Learning-rate Logger\n",
        "LR_LOGGER = LearningRateLogger(logging_interval=\"step\")\n",
        "\n",
        "# Model Checkpoint\n",
        "fname =f\"/content/checkpoints/\"\n",
        "os.makedirs(fname, exist_ok=True)\n",
        "CHECKPOINT_CALLBACK = ModelCheckpoint(fname, mode=\"min\", monitor=\"val_loss\", save_top_k=3,)\n",
        "\n",
        "# callback for early-stopping\n",
        "EARLY_STOPPING_CALLBACK = EarlyStopping(mode=\"min\", monitor=\"val_loss\", patience=10,)\n",
        "\n",
        "# instantiate trainer with arguments from above\n",
        "trainer = Trainer(precision=16, \n",
        "                  max_epochs=50,\n",
        "                  num_sanity_val_steps=0,\n",
        "                  gpus=1, \n",
        "                  logger=[LOGGER],\n",
        "                  early_stop_callback=EARLY_STOPPING_CALLBACK, \n",
        "                  checkpoint_callback=CHECKPOINT_CALLBACK,\n",
        "                  callbacks=[LogCallback(), LR_LOGGER], \n",
        "                  weights_summary=None,\n",
        "                  terminate_on_nan=True, \n",
        "                  benchmark=True,\n",
        "                  )"
      ],
      "execution_count": null,
      "outputs": []
    },
    {
      "cell_type": "markdown",
      "metadata": {
        "id": "pw0jpNl3GonQ"
      },
      "source": [
        "# **Train Custom Pytorch Retinanet Object Detector**:\n",
        "\n",
        "To train using pytorch-lightning we just need to run `trainer.fit(litModel)`.\n",
        "\n",
        "Properties (like data, optimzier, scheduler) are already defined in the `litModel` which was loaded using the custom modified `hparams` file.\n",
        "\n",
        "\n",
        "While `trainer` handles properties like Callbacks, fp_16 training, GPU training ..."
      ]
    },
    {
      "cell_type": "code",
      "metadata": {
        "id": "zyvMOPvu4FgZ"
      },
      "source": [
        "!echo \"[   START   ] START TRAINING ... \"\n",
        "trainer.fit(litModel)\n",
        "!echo \"[    END    ] TRAINING COMPLETE ! \"\n",
        "!echo \"[    INFO   ] RUN  : %tensorboard --logdir {save_dir} to view TensorBoard Logs \""
      ],
      "execution_count": null,
      "outputs": []
    },
    {
      "cell_type": "markdown",
      "metadata": {
        "id": "wQ__JAWIRe_V"
      },
      "source": [
        "### **Open TensorBoard Logs :**"
      ]
    },
    {
      "cell_type": "code",
      "metadata": {
        "id": "zOoaUYSiRicG"
      },
      "source": [
        "%load_ext tensorboard\n",
        "%tensorboard --logdir {save_dir}"
      ],
      "execution_count": null,
      "outputs": []
    },
    {
      "cell_type": "markdown",
      "metadata": {
        "id": "e5rJskGFA9qN"
      },
      "source": [
        "#**Evaluating the trained-model using COCO-API Metrics** : "
      ]
    },
    {
      "cell_type": "code",
      "metadata": {
        "id": "KZMqR9-1ycpD"
      },
      "source": [
        "!ls checkpoints/"
      ],
      "execution_count": null,
      "outputs": []
    },
    {
      "cell_type": "code",
      "metadata": {
        "id": "Qrha_GWi4HCN"
      },
      "source": [
        "# Evaluations results on the test/ validation dataset(if test dataset is not given)\n",
        "# using COCO API\n",
        "!echo \"[   START   ] START EVALUATION OF MODEL ON TEST IMAGE USING COCO-API ... \"\n",
        "trainer.test(litModel, ckpt_path=\"checkpoints/epoch=26.ckpt\")\n",
        "!echo \"[    END    ] DONE EVALUATING MODEL ON TEST IMAGE USING COCO-API ! \""
      ],
      "execution_count": null,
      "outputs": []
    },
    {
      "cell_type": "markdown",
      "metadata": {
        "id": "NcmsVktE4XtC"
      },
      "source": [
        "# **Export the model weights** :"
      ]
    },
    {
      "cell_type": "code",
      "metadata": {
        "id": "QWWz3xSeBZEb"
      },
      "source": [
        "import torch\n",
        "\n",
        "PATH = f\"/content/trained_weights.pth\"\n",
        "torch.save(litModel.model.state_dict(), PATH)"
      ],
      "execution_count": null,
      "outputs": []
    },
    {
      "cell_type": "markdown",
      "metadata": {
        "id": "l3Jlr8ZNGuqW"
      },
      "source": [
        "#**Load PyTorch Model from the trained Lightning-Module weights :**"
      ]
    },
    {
      "cell_type": "code",
      "metadata": {
        "id": "95lTR3rQBfeo"
      },
      "source": [
        "from retinanet import Retinanet\n",
        "\n",
        "state_dict = torch.load(PATH)\n",
        "\n",
        "MODEL = Retinanet(num_classes=hparams.model.num_classes, backbone_kind=hparams.model.backbone_kind)\n",
        "MODEL.load_state_dict(state_dict)"
      ],
      "execution_count": null,
      "outputs": []
    },
    {
      "cell_type": "markdown",
      "metadata": {
        "id": "DBCuWQO2BbTO"
      },
      "source": [
        "# **Run Inference on Test Images with Custom PyTroch Object Detector**"
      ]
    },
    {
      "cell_type": "code",
      "metadata": {
        "id": "BIwLxqKcEBlT"
      },
      "source": [
        "from PIL import Image\n",
        "import numpy as np\n",
        "import cv2\n",
        "\n",
        "import albumentations as A\n",
        "from albumentations.pytorch import ToTensorV2\n",
        "\n",
        "from utils import visualize_boxes_and_labels_on_image_array\n",
        "\n",
        "@torch.no_grad()\n",
        "def get_preds(path, threshold=0.6,):\n",
        "    \"\"\"\n",
        "    Generates predictions on the given image from the given path.\n",
        "    \"\"\"\n",
        "    image = cv2.cvtColor(cv2.imread(path), cv2.COLOR_BGR2RGB)\n",
        "    \n",
        "    INFER_TRANSFORMS = A.Compose([A.ToFloat(max_value=255.0, always_apply=True),\n",
        "                                  ToTensorV2(always_apply=True)\n",
        "                                  ])\n",
        "    \n",
        "    TENSOR_IMAGE = INFER_TRANSFORMS(image=image)[\"image\"]\n",
        "    PREDICTIONS = MODEL.predict([TENSOR_IMAGE])\n",
        "    #print(PREDICTIONS[0])\n",
        "    return PREDICTIONS[0]\n",
        "\n",
        "def detect(image_path, threshold=0.6):\n",
        "    \"\"\"\n",
        "    Generate detections on the image that is present in \n",
        "    the given image path\n",
        "\n",
        "    Args:\n",
        "        image_path: Path to the input Image\n",
        "        threshold: Score threshold to filter predictions\n",
        "        nms_threshold: NMS threshold\n",
        "\n",
        "    Returns: a PIL image containg the original Image and\n",
        "             bounding boxes draw over it.\n",
        "    \"\"\"\n",
        "    \n",
        "    # visualize_boxes_and_labels_on_image_array function\n",
        "    # expects the pixels values of the image to be in \n",
        "    # range [0,1] so be divide the loaded image by 255.0\n",
        "    # to noramlize the co-ordinates\n",
        "    # load the image as numpy array\n",
        "    image = Image.open(image_path)\n",
        "    image = np.array(image) / 255.\n",
        "    # Generate predictions for the given image\n",
        "    preds = get_preds(image_path, threshold,)\n",
        "    # print(preds)\n",
        "    # Filter predictions\n",
        "    boxes, labels, scores = preds[\"boxes\"], preds[\"labels\"], preds[\"scores\"]\n",
        "    mask = scores > threshold\n",
        "    boxes = boxes[mask]\n",
        "    labels = labels[mask]\n",
        "    scores = scores[mask]\n",
        "    return boxes.numpy(), labels.numpy(), scores.numpy()"
      ],
      "execution_count": null,
      "outputs": []
    },
    {
      "cell_type": "code",
      "metadata": {
        "id": "1hjH5gh08c_9"
      },
      "source": [
        "IMAGE, REAL_BOXES, REAL_LABELS = grab_bbs_(test_df, index=4)\n",
        "IMAGE = Image.open(IMAGE)\n",
        "IMAGE = np.array(IMAGE) / 255.\n",
        "\n",
        "#draw boxes over the image\n",
        "REAL_IMAGE = visualize_boxes_and_labels_on_image_array(\n",
        "                image=IMAGE,\n",
        "                boxes=REAL_BOXES, \n",
        "                scores=None, \n",
        "                classes=REAL_LABELS,\n",
        "                label_map=LABEL_MAP,\n",
        ")\n",
        "\n",
        "REAL_IMAGE\n",
        "\n",
        "PATH = test_df.filename[4]\n",
        "THRESHOLD = 0.5\n",
        "\n",
        "PRED_BOXES, PRED_LABELS, PRED_SCORES = detect(PATH, THRESHOLD,)\n",
        "\n",
        "PRED_IMAGE = visualize_boxes_and_labels_on_image_array(\n",
        "                image=IMAGE, \n",
        "                boxes=PRED_BOXES, \n",
        "                scores=PRED_SCORES,\n",
        "                classes= PRED_LABELS,\n",
        "                label_map=LABEL_MAP,\n",
        "                )"
      ],
      "execution_count": null,
      "outputs": []
    },
    {
      "cell_type": "code",
      "metadata": {
        "id": "IJ21x_UtvODn"
      },
      "source": [
        "!echo \"[ INFERENCE ] ORIGINAL\"\n",
        "\n",
        "REAL_IMAGE"
      ],
      "execution_count": null,
      "outputs": []
    },
    {
      "cell_type": "code",
      "metadata": {
        "id": "pS3Z9sdUtntn"
      },
      "source": [
        "!echo \"[ INFERENCE ] PREDICTIONS \"\n",
        "\n",
        "PRED_IMAGE"
      ],
      "execution_count": null,
      "outputs": []
    },
    {
      "cell_type": "code",
      "metadata": {
        "id": "vtiO_3olOtMO"
      },
      "source": [
        ""
      ],
      "execution_count": null,
      "outputs": []
    }
  ]
}